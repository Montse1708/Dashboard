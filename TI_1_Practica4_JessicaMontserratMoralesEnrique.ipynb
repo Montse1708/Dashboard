{
  "nbformat": 4,
  "nbformat_minor": 0,
  "metadata": {
    "colab": {
      "provenance": [],
      "authorship_tag": "ABX9TyNfYm9R4EMUdhTGfQGqcC3J",
      "include_colab_link": true
    },
    "kernelspec": {
      "name": "python3",
      "display_name": "Python 3"
    },
    "language_info": {
      "name": "python"
    }
  },
  "cells": [
    {
      "cell_type": "markdown",
      "metadata": {
        "id": "view-in-github",
        "colab_type": "text"
      },
      "source": [
        "<a href=\"https://colab.research.google.com/github/Montse1708/Dashboard/blob/main/TI_1_Practica4_JessicaMontserratMoralesEnrique.ipynb\" target=\"_parent\"><img src=\"https://colab.research.google.com/assets/colab-badge.svg\" alt=\"Open In Colab\"/></a>"
      ]
    },
    {
      "cell_type": "markdown",
      "source": [
        "# Práctica 4\n",
        "\n",
        "**Nombre:** Jessica Montserrat Morales Enrique  \n",
        "**e-mail:** jessica.morales5556@alumnos.udg.mx"
      ],
      "metadata": {
        "id": "hNaYNALzkfEj"
      }
    },
    {
      "cell_type": "code",
      "execution_count": null,
      "metadata": {
        "id": "TKFL5BI5kB-j"
      },
      "outputs": [],
      "source": []
    }
  ]
}